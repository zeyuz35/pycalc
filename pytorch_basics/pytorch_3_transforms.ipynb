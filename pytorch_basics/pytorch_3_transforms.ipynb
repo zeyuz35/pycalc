{
 "cells": [
  {
   "cell_type": "code",
   "execution_count": 2,
   "metadata": {},
   "outputs": [],
   "source": [
    "# Transforms\n",
    "# Data typically does not come in their final processed form that is required\n",
    "\n",
    "# All TorchVision datasets have two parameters\n",
    "# transform, to modify the features (x data)\n",
    "# target_transform, to modify the labels (y data)\n",
    "# torchvision.transforms module contains several commonly used transforms out of the box\n",
    "\n",
    "# FashionMNIST data are in PIL image format, and the labels are integers\n",
    "# PIL is Python Imaging Library, and it is a specific format for Python\n",
    "# it is a meta-format which itself then contains actual image data\n",
    "# These are for raster graphics\n",
    "\n",
    "# Unclear what format FashionMNIST is in specifically - look up later!"
   ]
  },
  {
   "cell_type": "code",
   "execution_count": 4,
   "metadata": {},
   "outputs": [],
   "source": [
    "# Preliminary\n",
    "\n",
    "import torch\n",
    "from torchvision import datasets\n",
    "from torchvision.transforms import ToTensor, Lambda\n",
    "\n",
    "ds = datasets.FashionMNIST(\n",
    "    root = \"data\",\n",
    "    train = True, \n",
    "    download = True, \n",
    "    transform = ToTensor(), \n",
    "    target_transform = Lambda(\n",
    "        lambda y: torch.zeros(\n",
    "            10, dtype = float).scatter_(0, torch.tensor(y), value = 1)\n",
    "    )\n",
    ")\n",
    "\n",
    "# Explanation\n",
    "# Lambda from transforms generalizes lambda functions to allow any user defined functions\n",
    "# as transformations (similar to lambda functions in base Python, functional approach)\n",
    "\n",
    "# In this case, the function aims to turn the integer into a one-hot encoded tensor\n",
    "# (i.e. vector of dummy variables corresponding to the discrete label)\n",
    "# Specifically:\n",
    "# Creates a zero tensor of size 10 (10 classes in FashionMNIST)\n",
    "# scatter_, which assigns value=1 on the index as given by the label y\n"
   ]
  },
  {
   "cell_type": "code",
   "execution_count": null,
   "metadata": {},
   "outputs": [
    {
     "data": {
      "text/plain": [
       "Dataset FashionMNIST\n",
       "    Number of datapoints: 60000\n",
       "    Root location: data\n",
       "    Split: Train\n",
       "    StandardTransform\n",
       "Transform: ToTensor()\n",
       "Target transform: Lambda()"
      ]
     },
     "execution_count": 5,
     "metadata": {},
     "output_type": "execute_result"
    }
   ],
   "source": []
  }
 ],
 "metadata": {
  "kernelspec": {
   "display_name": "Python 3",
   "language": "python",
   "name": "python3"
  },
  "language_info": {
   "codemirror_mode": {
    "name": "ipython",
    "version": 3
   },
   "file_extension": ".py",
   "mimetype": "text/x-python",
   "name": "python",
   "nbconvert_exporter": "python",
   "pygments_lexer": "ipython3",
   "version": "3.13.2"
  }
 },
 "nbformat": 4,
 "nbformat_minor": 2
}
