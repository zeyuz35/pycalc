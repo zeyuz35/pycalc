{
 "cells": [
  {
   "cell_type": "code",
   "execution_count": 8,
   "metadata": {},
   "outputs": [],
   "source": [
    "# Datasets & DataLoaders\n",
    "\n",
    "# Datasets and DataLoaders are an attempt to streamline the model processing from the actual model training code\n",
    "# i.e. you can think of these as the PyTorch specific data structures required for input\n",
    "# you still need to clean the data somewhere else first (I think)\n",
    "\n",
    "# These are \n",
    "# torch.utils.data.DataLoader\n",
    "# torch.utils.data.Dataset\n",
    "\n",
    "# Dataset is used for actually storing the samples\n",
    "# DataLoader is an iterable that wraps around Dataset that facilitates access\n",
    "\n",
    "# Datsets supports\n",
    "# text, image, and audio datasets\n",
    "\n",
    "# Below we go through an example of a Fashion-MNIST dataset from TorchVision\n",
    "# Each sample contains a 28 x 28 grayscale image that corresponds to one of 10 labels"
   ]
  },
  {
   "cell_type": "code",
   "execution_count": 1,
   "metadata": {},
   "outputs": [],
   "source": [
    "# Preliminary\n",
    "import torch\n",
    "from torch.utils.data import Dataset\n",
    "from torchvision import datasets\n",
    "import torchvision.transforms as transforms\n",
    "from torchvision.transforms import ToTensor\n",
    "from torchvision.transforms import RandomCrop\n",
    "import matplotlib.pyplot as plt"
   ]
  },
  {
   "cell_type": "code",
   "execution_count": 2,
   "metadata": {},
   "outputs": [],
   "source": [
    "# set up training data\n",
    "training_data = datasets.FashionMNIST(\n",
    "    # essentially a path variable, where to download the data to\n",
    "    # these are in the form of ubyte files\n",
    "    root = \"data\", \n",
    "    # pre-determined train/test split\n",
    "    train = True,\n",
    "    # download if not already downloaded\n",
    "    download = True, \n",
    "    # optional function that takes in a PIL image, and transforms it\n",
    "    # NOT the actual data format, e.g. more for transforms.RandomCrop\n",
    "    transform = ToTensor()\n",
    ")\n",
    "training_data2 = datasets.FashionMNIST(\n",
    "    root = \"data\", \n",
    "    train = True,\n",
    "    download = True,\n",
    "    # this should be cropped to a smaller size\n",
    "    transform = transforms.Compose([\n",
    "        RandomCrop(size = (20, 20)), \n",
    "        ToTensor()]\n",
    "    )\n",
    ")\n",
    "\n",
    "# training_data2 = datasets.FashionMNIST(\n",
    "#     root = \"data\", \n",
    "#     train = True,\n",
    "#     download = True,\n",
    "#     # this should be cropped to the same size\n",
    "#     transform = [\n",
    "#         RandomCrop(size = (28, 28)), \n",
    "#         ToTensor()]\n",
    "# )\n",
    "\n",
    "test_data = datasets.FashionMNIST(\n",
    "    root = \"data\", \n",
    "    train = False, \n",
    "    download = True, \n",
    "    transform = ToTensor()\n",
    ")"
   ]
  },
  {
   "cell_type": "code",
   "execution_count": 3,
   "metadata": {},
   "outputs": [
    {
     "data": {
      "image/png": "[encoded data removed]",
      "text/plain": [
       "<Figure size 800x800 with 9 Axes>"
      ]
     },
     "metadata": {},
     "output_type": "display_data"
    }
   ],
   "source": [
    "# Visualize the Datset\n",
    "# curly braces are dictionaries\n",
    "labels_map = {\n",
    "    0: \"T-Shirt\",\n",
    "    1: \"Trouser\",\n",
    "    2: \"Pullover\",\n",
    "    3: \"Dress\",\n",
    "    4: \"Coat\",\n",
    "    5: \"Sandal\",\n",
    "    6: \"Shirt\",\n",
    "    7: \"Sneaker\",\n",
    "    8: \"Bag\",\n",
    "    9: \"Ankle Boot\",\n",
    "}\n",
    "\n",
    "# plot some figures\n",
    "figure = plt.figure(figsize = (8, 8))\n",
    "cols, rows = 3, 3\n",
    "for i in range(1, cols*rows + 1):\n",
    "    # randint returns a tensor filled with random integers\n",
    "    # size determines the shape of the output tensor\n",
    "    # (1, ) defines a 1d tensor (i.e. vector)\n",
    "    # .item() coerces it back to a number\n",
    "    sample_idx = torch.randint(low = 0, high = len(training_data2), size = (1, 1)).item()\n",
    "    img, label = training_data2[sample_idx]\n",
    "    figure.add_subplot(rows, cols, i)\n",
    "    # set up plot options\n",
    "    plt.title(labels_map[label])\n",
    "    plt.axis(\"off\")\n",
    "    plt.imshow(img.squeeze(), cmap = \"gray\")\n",
    "plt.show()\n"
   ]
  },
  {
   "cell_type": "code",
   "execution_count": 4,
   "metadata": {},
   "outputs": [
    {
     "data": {
      "text/plain": [
       "Dataset FashionMNIST\n",
       "    Number of datapoints: 60000\n",
       "    Root location: data\n",
       "    Split: Train\n",
       "    StandardTransform\n",
       "Transform: Compose(\n",
       "               RandomCrop(size=(20, 20), padding=None)\n",
       "               ToTensor()\n",
       "           )"
      ]
     },
     "execution_count": 4,
     "metadata": {},
     "output_type": "execute_result"
    }
   ],
   "source": [
    "torch.randint(low = 0, high = len(training_data), size = (2,))\n",
    "training_data2"
   ]
  },
  {
   "cell_type": "code",
   "execution_count": null,
   "metadata": {},
   "outputs": [],
   "source": [
    "# Implementing a Custom Dataset\n",
    "# A custom Dataset class must implement three methods: __init__, __len__, and __getitem__\n",
    "\n",
    "# As with all Python classes, \n",
    "\n",
    "import os\n",
    "import pandas as pd\n",
    "from torchvision.io import read_image\n",
    "\n",
    "# define a class called CustomImageDataset\n",
    "# this inherits from the Dataset class\n",
    "\n",
    "class CustomImageDataset(Dataset):\n",
    "    # constructor method\n",
    "    # inputs:\n",
    "    # annotations_file = path to CSV containing the labels\n",
    "    # transform = optional transform to be applied to the image\n",
    "    # target_transform = optional transform to be applied to the target label\n",
    "    def __init__(self, annotations_file, img_dir, transform = None, target_transform = None):\n",
    "    # save all the various attributes to the object itself\n",
    "        self.img_labels = pd.read_sv(annotations_file)\n",
    "        self.img_dir = img_dir\n",
    "        self.transform = transform\n",
    "        self.target_transform = target_transform\n",
    "    # length method\n",
    "    def __len__(self):\n",
    "        return len(self.img_labels)\n",
    "    # getitem method\n",
    "    # inputs\n",
    "    # idx = index of the sample to be retrieved\n",
    "    # don't forget zero based indexing!\n",
    "    def __getitem__(self, idx):\n",
    "        img_path = os.path.join(self.img_dir, self.img_labels.iloc[idx, 0])\n",
    "        image = read_image(img_path)\n",
    "        label = self.img_labels.iloc[idx, 1]\n",
    "        if self.transform:\n",
    "            image = self.transform(image)\n",
    "        if self.target_transform:\n",
    "            label = self.target_transform(label)\n",
    "            # return as tuple\n",
    "        return image, label"
   ]
  },
  {
   "cell_type": "code",
   "execution_count": 6,
   "metadata": {},
   "outputs": [],
   "source": [
    "# testing this out\n",
    "# The __init__ method is run once when creating the object\n",
    "# We initialize using the\n",
    "# directory containing the images\n",
    "# annotations file\n",
    "# and the transform functions (details relegated further below)\n"
   ]
  },
  {
   "cell_type": "code",
   "execution_count": 17,
   "metadata": {},
   "outputs": [
    {
     "name": "stdout",
     "output_type": "stream",
     "text": [
      "Feature batch shape: torch.Size([64, 1, 28, 28])\n",
      "\n"
     ]
    },
    {
     "data": {
      "image/png": "[encoded data removed]",
      "text/plain": [
       "<Figure size 640x480 with 1 Axes>"
      ]
     },
     "metadata": {},
     "output_type": "display_data"
    },
    {
     "name": "stdout",
     "output_type": "stream",
     "text": [
      "Numerical Label: 8\n",
      "Label: Bag\n"
     ]
    }
   ],
   "source": [
    "# Iterate through DataLoader\n",
    "# Dataset only retrieves the dataset's features and labels one sample at a time\n",
    "# This is really inefficient, so we use DataLoader, a wrapper which allows us to\n",
    "# automatically iterate through\n",
    "\n",
    "from torch.utils.data import DataLoader\n",
    "\n",
    "train_dataloader = DataLoader(training_data, batch_size = 64, shuffle = True)\n",
    "test_dataloader = DataLoader(test_data, batch_size = 64, shuffle = True)\n",
    "\n",
    "# Iterate through the DataLoader\n",
    "\n",
    "# Display Image and Label\n",
    "train_features, train_labels = next(iter(train_dataloader))\n",
    "print(f\"Feature batch shape: {train_features.size()}\")\n",
    "print(f\"\")\n",
    "img = train_features[0].squeeze()\n",
    "label = train_labels[0]\n",
    "plt.imshow(img, cmap = \"gray\")\n",
    "plt.show()\n",
    "# Numerical Label\n",
    "print(f\"Numerical Label: {label}\")\n",
    "# Label, note that label is a tensor and needs to be coerced to a number\n",
    "print(f\"Label: {labels_map[label.item()]}\")"
   ]
  }
 ],
 "metadata": {
  "kernelspec": {
   "display_name": "Python 3",
   "language": "python",
   "name": "python3"
  },
  "language_info": {
   "codemirror_mode": {
    "name": "ipython",
    "version": 3
   },
   "file_extension": ".py",
   "mimetype": "text/x-python",
   "name": "python",
   "nbconvert_exporter": "python",
   "pygments_lexer": "ipython3",
   "version": "3.13.2"
  },
  "orig_nbformat": 4
 },
 "nbformat": 4,
 "nbformat_minor": 2
}
