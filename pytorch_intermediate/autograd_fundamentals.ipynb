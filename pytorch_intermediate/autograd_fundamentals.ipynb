{
 "cells": [
  {
   "cell_type": "code",
   "execution_count": 1,
   "metadata": {},
   "outputs": [],
   "source": [
    "# Preliminary\n",
    "import torch\n",
    "\n",
    "import matplotlib.pyplot as plt\n",
    "import matplotlib.ticker as ticker\n",
    "import math"
   ]
  },
  {
   "cell_type": "code",
   "execution_count": 2,
   "metadata": {},
   "outputs": [
    {
     "name": "stdout",
     "output_type": "stream",
     "text": [
      "tensor([0.0000, 0.2618, 0.5236, 0.7854, 1.0472, 1.3090, 1.5708, 1.8326, 2.0944,\n",
      "        2.3562, 2.6180, 2.8798, 3.1416, 3.4034, 3.6652, 3.9270, 4.1888, 4.4506,\n",
      "        4.7124, 4.9742, 5.2360, 5.4978, 5.7596, 6.0214, 6.2832],\n",
      "       requires_grad=True)\n"
     ]
    }
   ],
   "source": [
    "a = torch.linspace(0, 2 * math.pi, steps = 25, requires_grad = True)\n",
    "print(a)\n"
   ]
  },
  {
   "cell_type": "code",
   "execution_count": 3,
   "metadata": {},
   "outputs": [
    {
     "data": {
      "text/plain": [
       "[<matplotlib.lines.Line2D at 0x75c316ff5bd0>]"
      ]
     },
     "execution_count": 3,
     "metadata": {},
     "output_type": "execute_result"
    },
    {
     "data": {
      "image/png": "[encoded data removed]",
      "text/plain": [
       "<Figure size 640x480 with 1 Axes>"
      ]
     },
     "metadata": {},
     "output_type": "display_data"
    }
   ],
   "source": [
    "b = torch.sin(a)\n",
    "# the tensors have gradients saved, so we need to remove them first using detach\n",
    "# so that plt can plot them \n",
    "plt.plot(a.detach(), b.detach())"
   ]
  },
  {
   "cell_type": "code",
   "execution_count": 4,
   "metadata": {},
   "outputs": [
    {
     "name": "stdout",
     "output_type": "stream",
     "text": [
      "tensor([ 0.0000e+00,  2.5882e-01,  5.0000e-01,  7.0711e-01,  8.6603e-01,\n",
      "         9.6593e-01,  1.0000e+00,  9.6593e-01,  8.6603e-01,  7.0711e-01,\n",
      "         5.0000e-01,  2.5882e-01, -8.7423e-08, -2.5882e-01, -5.0000e-01,\n",
      "        -7.0711e-01, -8.6603e-01, -9.6593e-01, -1.0000e+00, -9.6593e-01,\n",
      "        -8.6603e-01, -7.0711e-01, -5.0000e-01, -2.5882e-01,  1.7485e-07],\n",
      "       grad_fn=<SinBackward0>)\n",
      "tensor([ 0.0000e+00,  5.1764e-01,  1.0000e+00,  1.4142e+00,  1.7321e+00,\n",
      "         1.9319e+00,  2.0000e+00,  1.9319e+00,  1.7321e+00,  1.4142e+00,\n",
      "         1.0000e+00,  5.1764e-01, -1.7485e-07, -5.1764e-01, -1.0000e+00,\n",
      "        -1.4142e+00, -1.7321e+00, -1.9319e+00, -2.0000e+00, -1.9319e+00,\n",
      "        -1.7321e+00, -1.4142e+00, -1.0000e+00, -5.1764e-01,  3.4969e-07],\n",
      "       grad_fn=<MulBackward0>)\n",
      "tensor([ 1.0000e+00,  1.5176e+00,  2.0000e+00,  2.4142e+00,  2.7321e+00,\n",
      "         2.9319e+00,  3.0000e+00,  2.9319e+00,  2.7321e+00,  2.4142e+00,\n",
      "         2.0000e+00,  1.5176e+00,  1.0000e+00,  4.8236e-01, -3.5763e-07,\n",
      "        -4.1421e-01, -7.3205e-01, -9.3185e-01, -1.0000e+00, -9.3185e-01,\n",
      "        -7.3205e-01, -4.1421e-01,  4.7684e-07,  4.8236e-01,  1.0000e+00],\n",
      "       grad_fn=<AddBackward0>)\n",
      "tensor(25., grad_fn=<SumBackward0>)\n"
     ]
    }
   ],
   "source": [
    "# notice that b has all of its gradients saved...\n",
    "print(b)\n",
    "# perform some more computations on b\n",
    "c = 2 * b\n",
    "print(c)\n",
    "d = c + 1\n",
    "print(d)\n",
    "\n",
    "out = d.sum()\n",
    "print(out)\n"
   ]
  },
  {
   "cell_type": "code",
   "execution_count": 5,
   "metadata": {},
   "outputs": [
    {
     "name": "stdout",
     "output_type": "stream",
     "text": [
      "<AddBackward0 object at 0x75c316f0bc70>\n",
      "((<MulBackward0 object at 0x75c316f08310>, 0), (None, 0))\n",
      "((<SinBackward0 object at 0x75c316f08310>, 0), (None, 0))\n"
     ]
    }
   ],
   "source": [
    "# Notice that each grad_fn stored allows you to trace back the computation, using the \n",
    "# next_functions method\n",
    "print(d.grad_fn)\n",
    "print(d.grad_fn.next_functions)\n",
    "print(d.grad_fn.next_functions[0][0].next_functions)\n",
    "# etc..."
   ]
  },
  {
   "cell_type": "code",
   "execution_count": null,
   "metadata": {},
   "outputs": [
    {
     "name": "stdout",
     "output_type": "stream",
     "text": [
      "None\n",
      "None\n",
      "None\n",
      "tensor([ 2.0000e+00,  1.9319e+00,  1.7321e+00,  1.4142e+00,  1.0000e+00,\n",
      "         5.1764e-01, -8.7423e-08, -5.1764e-01, -1.0000e+00, -1.4142e+00,\n",
      "        -1.7321e+00, -1.9319e+00, -2.0000e+00, -1.9319e+00, -1.7321e+00,\n",
      "        -1.4142e+00, -1.0000e+00, -5.1764e-01,  2.3850e-08,  5.1764e-01,\n",
      "         1.0000e+00,  1.4142e+00,  1.7321e+00,  1.9319e+00,  2.0000e+00])\n"
     ]
    },
    {
     "name": "stderr",
     "output_type": "stream",
     "text": [
      "/tmp/ipykernel_615376/1207288228.py:3: UserWarning: The .grad attribute of a Tensor that is not a leaf Tensor is being accessed. Its .grad attribute won't be populated during autograd.backward(). If you indeed want the .grad field to be populated for a non-leaf Tensor, use .retain_grad() on the non-leaf Tensor. If you access the non-leaf Tensor by mistake, make sure you access the leaf Tensor instead. See github.com/pytorch/pytorch/pull/30531 for more informations. (Triggered internally at /build/python-pytorch/src/pytorch-rocm/build/aten/src/ATen/core/TensorBody.h:489.)\n",
      "  print(d.grad)\n",
      "/tmp/ipykernel_615376/1207288228.py:4: UserWarning: The .grad attribute of a Tensor that is not a leaf Tensor is being accessed. Its .grad attribute won't be populated during autograd.backward(). If you indeed want the .grad field to be populated for a non-leaf Tensor, use .retain_grad() on the non-leaf Tensor. If you access the non-leaf Tensor by mistake, make sure you access the leaf Tensor instead. See github.com/pytorch/pytorch/pull/30531 for more informations. (Triggered internally at /build/python-pytorch/src/pytorch-rocm/build/aten/src/ATen/core/TensorBody.h:489.)\n",
      "  print(c.grad)\n",
      "/tmp/ipykernel_615376/1207288228.py:5: UserWarning: The .grad attribute of a Tensor that is not a leaf Tensor is being accessed. Its .grad attribute won't be populated during autograd.backward(). If you indeed want the .grad field to be populated for a non-leaf Tensor, use .retain_grad() on the non-leaf Tensor. If you access the non-leaf Tensor by mistake, make sure you access the leaf Tensor instead. See github.com/pytorch/pytorch/pull/30531 for more informations. (Triggered internally at /build/python-pytorch/src/pytorch-rocm/build/aten/src/ATen/core/TensorBody.h:489.)\n",
      "  print(b.grad)\n"
     ]
    },
    {
     "data": {
      "text/plain": [
       "[<matplotlib.lines.Line2D at 0x75c316f939d0>]"
      ]
     },
     "execution_count": 6,
     "metadata": {},
     "output_type": "execute_result"
    },
    {
     "data": {
      "image/png": "[encoded data removed]",
      "text/plain": [
       "<Figure size 640x480 with 1 Axes>"
      ]
     },
     "metadata": {},
     "output_type": "display_data"
    }
   ],
   "source": [
    "# This means we can simply call the backward() method, and then check the gradients via grad()\n",
    "out.backward()\n",
    "# this is really funky, backward() is called on the final tensor, and then the gradients are stored in the\n",
    "# .grad attribute of the INPUT tensor on the computation graph\n",
    "# print(d.grad)\n",
    "# print(c.grad)\n",
    "# print(b.grad)\n",
    "print(a.grad)\n",
    "\n",
    "plt.plot(a.detach(), a.grad.detach())"
   ]
  },
  {
   "cell_type": "code",
   "execution_count": null,
   "metadata": {},
   "outputs": [],
   "source": [
    "# Example in a neural network\n",
    "\n",
    "batch_size = 16\n",
    "dim_in = 1000\n",
    "hidden_size = 100\n",
    "dim_out = 10\n",
    "\n",
    "# Note that within a subclass of torch.nn.Module, all layers (tensors) are \n",
    "# automatically specified with requires_grad=True, because it is assumed that\n",
    "# the weights will be learned via backpropagation\n",
    "\n",
    "class TinyModel(torch.nn.Module):\n",
    "    # initialisation of the model, this defines the model architecture\n",
    "    def __init__(self):\n",
    "        # what is super?\n",
    "        super(TinyModel, self).__init__()\n",
    "        # super just delegates the call to the parent class\n",
    "        # i.e. identical to \n",
    "        # super().__init__()\n",
    "\n",
    "        self.layer1 = torch.nn.Linear(dim_in, hidden_size)\n",
    "        self.relu = torch.nn.ReLU()\n",
    "        self.layer2 = torch.nn.Linear(hidden_size, dim_out)\n",
    "        \n",
    "    # define the forward pass\n",
    "    def forward(self, x):\n",
    "        x = self.layer1(x)\n",
    "        x = self.relu(x)\n",
    "        x = self.layer2(x)\n",
    "        return x\n",
    "\n",
    "some_input = torch.randn(batch_size, dim_in, requires_grad = False)\n",
    "ideal_output = torch.randn(batch_size, dim_out, requires_grad = False)\n",
    "\n",
    "model = TinyModel()"
   ]
  },
  {
   "cell_type": "code",
   "execution_count": 18,
   "metadata": {},
   "outputs": [
    {
     "name": "stdout",
     "output_type": "stream",
     "text": [
      "tensor([ 0.0835, -0.0745,  0.0522, -0.0324,  0.0894,  0.0996,  0.0005,  0.0802,\n",
      "        -0.0885,  0.0755], grad_fn=<SliceBackward0>)\n",
      "None\n"
     ]
    }
   ],
   "source": [
    "# View and verify that no gradients have been computed yet\n",
    "print(model.layer2.weight[0][0:10])\n",
    "print(model.layer2.weight.grad)"
   ]
  },
  {
   "cell_type": "code",
   "execution_count": 19,
   "metadata": {},
   "outputs": [
    {
     "name": "stdout",
     "output_type": "stream",
     "text": [
      "tensor(143.2574, grad_fn=<SumBackward0>)\n"
     ]
    }
   ],
   "source": [
    "optimizer = torch.optim.SGD(model.parameters(), lr = 0.001)\n",
    "\n",
    "prediction = model(some_input)\n",
    "\n",
    "# MSE loss\n",
    "loss = (ideal_output - prediction).pow(2).sum()\n",
    "print(loss)"
   ]
  },
  {
   "cell_type": "code",
   "execution_count": null,
   "metadata": {},
   "outputs": [
    {
     "name": "stdout",
     "output_type": "stream",
     "text": [
      "tensor([ 0.0835, -0.0745,  0.0522, -0.0324,  0.0894,  0.0996,  0.0005,  0.0802,\n",
      "        -0.0885,  0.0755], grad_fn=<SliceBackward0>)\n",
      "tensor([-0.5511,  0.0309,  0.3439,  0.0538, -1.0029,  2.6592, -1.3879,  2.3152,\n",
      "         6.5635, -0.3776])\n"
     ]
    }
   ],
   "source": [
    "loss.backward()\n",
    "print(model.layer2.weight[0][0:10])\n",
    "print(model.layer2.weight.grad[0][0:10])\n",
    "\n",
    "# gradients have been backpropagated, but we still need to update the parameters\n",
    "# using the optimizer"
   ]
  },
  {
   "cell_type": "code",
   "execution_count": 26,
   "metadata": {},
   "outputs": [
    {
     "name": "stdout",
     "output_type": "stream",
     "text": [
      "tensor([ 0.0846, -0.0745,  0.0515, -0.0325,  0.0914,  0.0943,  0.0033,  0.0756,\n",
      "        -0.1016,  0.0762], grad_fn=<SliceBackward0>)\n",
      "tensor([-0.5511,  0.0309,  0.3439,  0.0538, -1.0029,  2.6592, -1.3879,  2.3152,\n",
      "         6.5635, -0.3776])\n"
     ]
    }
   ],
   "source": [
    "optimizer.step()\n",
    "print(model.layer2.weight[0][0:10])\n",
    "print(model.layer2.weight.grad[0][0:10])\n",
    "# the weights have changed, but the gradients have not\n",
    "# remember to optimizer.zero_grad() before calling loss.backward() again\n",
    "# or the gradients will accumulate\n",
    "optimizer.zero_grad(set_to_none=False)"
   ]
  },
  {
   "cell_type": "code",
   "execution_count": 32,
   "metadata": {},
   "outputs": [
    {
     "name": "stdout",
     "output_type": "stream",
     "text": [
      "-------------  ------------  ------------  ------------  ------------  ------------  ------------  ------------  ------------  ------------  ------------  \n",
      "         Name    Self CPU %      Self CPU   CPU total %     CPU total  CPU time avg     Self CUDA   Self CUDA %    CUDA total  CUDA time avg    # of Calls  \n",
      "-------------  ------------  ------------  ------------  ------------  ------------  ------------  ------------  ------------  ------------  ------------  \n",
      "    aten::div        50.82%       2.127ms        50.82%       2.127ms       2.127us       5.043ms        50.05%       5.043ms       5.043us          1000  \n",
      "    aten::mul        49.18%       2.058ms        49.18%       2.058ms       2.058us       5.033ms        49.95%       5.033ms       5.033us          1000  \n",
      "-------------  ------------  ------------  ------------  ------------  ------------  ------------  ------------  ------------  ------------  ------------  \n",
      "Self CPU time total: 4.186ms\n",
      "Self CUDA time total: 10.076ms\n",
      "\n"
     ]
    }
   ],
   "source": [
    "# Autograd Profiler\n",
    "# This is a tool for profiling the memory usage of the autograd engine\n",
    "x = torch.randn(2, 3, requires_grad = True)\n",
    "y = torch.randn(2, 3, requires_grad = True)\n",
    "z = torch.randn(2, 3, requires_grad = True)\n",
    "\n",
    "with torch.autograd.profiler.profile(use_device = device.type) as prf:\n",
    "    for _ in range(1000):\n",
    "        z = (z / x) * y\n",
    "\n",
    "print(prf.key_averages().table(sort_by = \"self_cpu_time_total\"))\n",
    "\n"
   ]
  },
  {
   "cell_type": "code",
   "execution_count": null,
   "metadata": {},
   "outputs": [
    {
     "name": "stdout",
     "output_type": "stream",
     "text": [
      "(tensor([0.9752]), tensor([0.2511]))\n"
     ]
    },
    {
     "data": {
      "text/plain": [
       "((tensor([[5.3034]]), tensor([[0.]])), (tensor([[0.]]), tensor([[0.]])))"
      ]
     },
     "execution_count": 57,
     "metadata": {},
     "output_type": "execute_result"
    }
   ],
   "source": [
    "# High level API\n",
    "# This autograd framework as a byproduct also allows us to easily calculate gradients more\n",
    "# generally\n",
    "def exp_adder(x, y):\n",
    "    return 2 * x.exp() + 3 * y\n",
    "\n",
    "inputs = (torch.rand(1), torch.rand(1))\n",
    "# input\n",
    "print(inputs)\n",
    "# jacobian at the values of the input\n",
    "torch.autograd.functional.jacobian(exp_adder, inputs)\n",
    "# hessian at the values of the input\n",
    "torch.autograd.functional.hessian(exp_adder, inputs)\n",
    "\n",
    "# directly calculating the vector-Jacobian product is also possible\n",
    "def do_some_doubling(x):\n",
    "    y = x * 2\n",
    "    while y.data.norm() < 1000:\n",
    "        y = y * 2\n",
    "    return y\n",
    "\n",
    "inputs = torch.randn(3)\n",
    "my_gradients = torch.tensor([0.1, 1.0, 0.0001])\n",
    "torch.autograd.functional.vjp(do_some_doubling, inputs, v=my_gradients)"
   ]
  }
 ],
 "metadata": {
  "kernelspec": {
   "display_name": "Python 3",
   "language": "python",
   "name": "python3"
  },
  "language_info": {
   "codemirror_mode": {
    "name": "ipython",
    "version": 3
   },
   "file_extension": ".py",
   "mimetype": "text/x-python",
   "name": "python",
   "nbconvert_exporter": "python",
   "pygments_lexer": "ipython3",
   "version": "3.13.2"
  }
 },
 "nbformat": 4,
 "nbformat_minor": 2
}
